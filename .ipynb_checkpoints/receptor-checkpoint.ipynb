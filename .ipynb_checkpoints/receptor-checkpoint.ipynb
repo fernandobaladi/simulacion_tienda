{
 "cells": [
  {
   "cell_type": "code",
   "execution_count": null,
   "metadata": {},
   "outputs": [],
   "source": [
    "import time\n",
    "import paho.mqtt.client\n",
    "import paho.mqtt.publish\n",
    "import numpy as np\n",
    "from numpy import random\n",
    "import datetime\n",
    "import json"
   ]
  },
  {
   "cell_type": "code",
   "execution_count": null,
   "metadata": {},
   "outputs": [],
   "source": [
    "def on_connect(client, userdata, flags, rc):    \n",
    "    print('connected (%s)' % client._client_id)\n",
    "    client.subscribe(topic='Tienda/#', qos = 2)  \n",
    "def on_message(client, userdata, message):   \n",
    "    a = json.loads(message.payload)\n",
    "    print(a)\n",
    "    print('------------------------------') "
   ]
  },
  {
   "cell_type": "code",
   "execution_count": null,
   "metadata": {},
   "outputs": [],
   "source": [
    "host = \"broker.hivemq.com\"\n",
    "\n",
    "client = paho.mqtt.client.Client(\"Equipo\", False)\n",
    "\n",
    "client.qos = 2\n",
    "\n",
    "client.message_callback_add('Tienda/EntradaClientes', on_message)\n",
    "\n",
    "client.connect(host=host)\n",
    "\n",
    "client.on_connect = on_connect\n",
    "\n",
    "client.loop_start()"
   ]
  },
  {
   "cell_type": "code",
   "execution_count": null,
   "metadata": {},
   "outputs": [],
   "source": [
    "date_base = datetime.datetime(2020,9,21)\n",
    "\n",
    "while (True):\n",
    "    payload = {\n",
    "        \"sensor_id\": int(random.randint(2))\n",
    "    }\n",
    "\n",
    "    client.publish('Tienda/EntradaClientes',json.dumps(payload),qos=0)\n",
    "    time.sleep(0.3)"
   ]
  },
  {
   "cell_type": "code",
   "execution_count": null,
   "metadata": {},
   "outputs": [],
   "source": []
  }
 ],
 "metadata": {
  "kernelspec": {
   "display_name": "Python 3",
   "language": "python",
   "name": "python3"
  },
  "language_info": {
   "codemirror_mode": {
    "name": "ipython",
    "version": 3
   },
   "file_extension": ".py",
   "mimetype": "text/x-python",
   "name": "python",
   "nbconvert_exporter": "python",
   "pygments_lexer": "ipython3",
   "version": "3.8.5"
  }
 },
 "nbformat": 4,
 "nbformat_minor": 4
}
