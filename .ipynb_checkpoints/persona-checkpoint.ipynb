{
 "cells": [
  {
   "cell_type": "code",
   "execution_count": 1,
   "metadata": {},
   "outputs": [],
   "source": [
    "import time\n",
    "import paho.mqtt.client\n",
    "import paho.mqtt.publish\n",
    "import numpy as np\n",
    "import mkl_random as random\n",
    "import datetime\n",
    "import json\n",
    "import ssl\n",
    "import sys\n",
    "import psycopg2\n",
    "from sqlalchemy import create_engine"
   ]
  },
  {
   "cell_type": "code",
   "execution_count": 2,
   "metadata": {},
   "outputs": [],
   "source": [
    "host='lallah.db.elephantsql.com'\n",
    "user ='yirsxctz'\n",
    "password='AS3sYxp2fpRwAczZa1OZpIzI4etWHM6n'\n",
    "dbname='yirsxctz'"
   ]
  },
  {
   "cell_type": "code",
   "execution_count": 3,
   "metadata": {},
   "outputs": [],
   "source": [
    "myConnection = psycopg2.connect(host = host,\n",
    "                                user= user, password =password,\n",
    "                                dbname= dbname)"
   ]
  },
  {
   "cell_type": "code",
   "execution_count": 4,
   "metadata": {},
   "outputs": [],
   "source": [
    "def on_connect(client, userdata, flags, rc):    \n",
    "    print('connected (%s)' % client._client_id)\n",
    "    client.subscribe(topic='Tienda/#', qos = 2)  \n",
    "def on_message(client, userdata, message):   \n",
    "    a = json.loads(message.payload)\n",
    "    print(a)\n",
    "    print('------------------------------') \n",
    "def select(query):\n",
    "    cur = myConnection.cursor()\n",
    "    try:\n",
    "        cur.execute(query)\n",
    "    except Exception as e:\n",
    "        myConnection.commit()\n",
    "        print('Error en el query:', e)\n",
    "    else:\n",
    "        records = cur.fetchall()\n",
    "        cur.close()\n",
    "        return records"
   ]
  },
  {
   "cell_type": "code",
   "execution_count": 5,
   "metadata": {},
   "outputs": [
    {
     "name": "stdout",
     "output_type": "stream",
     "text": [
      "connected (b'Equipo')\n"
     ]
    }
   ],
   "source": [
    "host = \"broker.hivemq.com\"\n",
    "\n",
    "client = paho.mqtt.client.Client(\"Equipo\", False)\n",
    "\n",
    "client.qos = 2\n",
    "\n",
    "client.message_callback_add('Tienda/EntradaClientes', on_message)\n",
    "\n",
    "client.connect(host=host)\n",
    "\n",
    "client.on_connect = on_connect\n",
    "\n",
    "client.loop_start()"
   ]
  },
  {
   "cell_type": "code",
   "execution_count": 12,
   "metadata": {},
   "outputs": [
    {
     "name": "stdout",
     "output_type": "stream",
     "text": [
      "{'afiliado': 1, 'cliente': 1, 'tienda': 1, 'fecha': '2020-11-10 19:16:27.901830', 'id_factura': 1, 'productos': [1], 'cantidades': [2], 'cambios_precio_productos': [2.5], 'productosxestante': [1]}\n",
      "------------------------------\n",
      "{'afiliado': 1, 'cliente': 1, 'tienda': 1, 'fecha': '2020-11-10 19:16:28.902801', 'id_factura': 1, 'productos': [1], 'cantidades': [3], 'cambios_precio_productos': [2.5], 'productosxestante': [1]}\n",
      "------------------------------\n"
     ]
    },
    {
     "ename": "KeyboardInterrupt",
     "evalue": "",
     "output_type": "error",
     "traceback": [
      "\u001b[0;31m---------------------------------------------------------------------------\u001b[0m",
      "\u001b[0;31mKeyboardInterrupt\u001b[0m                         Traceback (most recent call last)",
      "\u001b[0;32m<ipython-input-12-829d78dc0bb6>\u001b[0m in \u001b[0;36m<module>\u001b[0;34m\u001b[0m\n\u001b[1;32m     73\u001b[0m \u001b[0;34m\u001b[0m\u001b[0m\n\u001b[1;32m     74\u001b[0m     \u001b[0mclient\u001b[0m\u001b[0;34m.\u001b[0m\u001b[0mpublish\u001b[0m\u001b[0;34m(\u001b[0m\u001b[0;34m'Tienda/EntradaClientes'\u001b[0m\u001b[0;34m,\u001b[0m\u001b[0mjson\u001b[0m\u001b[0;34m.\u001b[0m\u001b[0mdumps\u001b[0m\u001b[0;34m(\u001b[0m\u001b[0mpayload\u001b[0m\u001b[0;34m)\u001b[0m\u001b[0;34m,\u001b[0m\u001b[0mqos\u001b[0m\u001b[0;34m=\u001b[0m\u001b[0;36m0\u001b[0m\u001b[0;34m)\u001b[0m\u001b[0;34m\u001b[0m\u001b[0;34m\u001b[0m\u001b[0m\n\u001b[0;32m---> 75\u001b[0;31m     \u001b[0mtime\u001b[0m\u001b[0;34m.\u001b[0m\u001b[0msleep\u001b[0m\u001b[0;34m(\u001b[0m\u001b[0;36m1\u001b[0m\u001b[0;34m)\u001b[0m\u001b[0;34m\u001b[0m\u001b[0;34m\u001b[0m\u001b[0m\n\u001b[0m",
      "\u001b[0;31mKeyboardInterrupt\u001b[0m: "
     ]
    },
    {
     "name": "stdout",
     "output_type": "stream",
     "text": [
      "{'afiliado': 0, 'cliente': 1, 'tienda': 2, 'fecha': '2020-11-10 19:16:29.906478', 'id_factura': 1, 'productos': [1], 'cantidades': [2], 'cambios_precio_productos': [2.5], 'productosxestante': [1]}\n",
      "------------------------------\n"
     ]
    }
   ],
   "source": [
    "query_clientes = '''select * from cliente_afiliado'''\n",
    "numero_clientes = len(select(query_clientes))\n",
    "# query_productos = '''select * from producto'''\n",
    "# numero_productos = len(select(query_productos))\n",
    "\n",
    "# numero_ahora = 5\n",
    "# productos_id = []\n",
    "# for x in range(1, numero_ahora + 1):\n",
    "#     productos_id.append(x)\n",
    "\n",
    "while (True):\n",
    "    #random_time = int(random.randint(6))\n",
    "    numero_compras = int(random.randint(1,6))\n",
    "    tienda_escogida = int(random.randint(1,3))\n",
    "    estante = 0\n",
    "    productos_comprados = []\n",
    "    cantidades = []\n",
    "    productosxestante = []\n",
    "    cambios_precio_productos = []\n",
    "    \n",
    "    for compra in range(1, 2):\n",
    "        if (tienda_escogida == 1):\n",
    "            estante = int(random.randint(1,6))\n",
    "        else:\n",
    "            estante = int(random.randint(6,11))\n",
    "        \n",
    "        #aqui se ven los productos que hay por estante\n",
    "        \n",
    "        \n",
    "        #cantidad_aleatoria = int(random.randint(1, ))\n",
    "        query_productos = '''select id_producto from productoxestante where id_estante='''+str(estante)+''''''\n",
    "        #falta query\n",
    "        productos = [1]#productos = [1,2,3]\n",
    "        producto_escogido = int(random.randint( 0, len(productos)))\n",
    "        productos_comprados.append(productos[producto_escogido])\n",
    "        \n",
    "        query_productosxestante = '''select id_productoxestante from productoxestante where id_producto='''+str(productos[producto_escogido])+''';'''\n",
    "        #falta query\n",
    "        productoxestante = 1\n",
    "        productosxestante.append(productoxestante)\n",
    "        \n",
    "        query_cantidad = '''select cantidad_disponible_producto from producto_disponiblexestante where id_productoxestante = '''+str(productoxestante)+''' '''\n",
    "        #falta query\n",
    "        cantidad_disponible = 4\n",
    "        cantidad_seleccionada = int(random.randint(1, cantidad_disponible + 1))\n",
    "        cantidades.append(cantidad_seleccionada)\n",
    "        \n",
    "        query_precio = '''select id_cambio_precio_producto from cambio_precio_producto\n",
    "                            where id_producto = '''+str(productos[producto_escogido])+'''\n",
    "                            order by fecha desc\n",
    "                            limit 1'''\n",
    "        #falta query\n",
    "        precio = 2.5\n",
    "        cambios_precio_productos.append(precio)\n",
    "        \n",
    "        \n",
    "    \n",
    "    date_base = datetime.datetime.now()\n",
    "    payload = {\n",
    "        #visitas conocidas\n",
    "        \"afiliado\": int(random.randint(2)),\n",
    "        \"cliente\": int(random.randint(1, numero_clientes)),\n",
    "        \"tienda\": tienda_escogida,\n",
    "        \"fecha\": str(date_base),\n",
    "        \n",
    "        #compras\n",
    "        \"id_factura\": 1,\n",
    "        \"productos\": productos_comprados,\n",
    "        \"cantidades\": cantidades,\n",
    "        \"cambios_precio_productos\": cambios_precio_productos,\n",
    "        \"productosxestante\": productosxestante\n",
    "    }\n",
    "\n",
    "    client.publish('Tienda/EntradaClientes',json.dumps(payload),qos=0)\n",
    "    time.sleep(1)"
   ]
  },
  {
   "cell_type": "code",
   "execution_count": 10,
   "metadata": {},
   "outputs": [
    {
     "ename": "SyntaxError",
     "evalue": "invalid syntax (<ipython-input-10-b96af35311cc>, line 2)",
     "output_type": "error",
     "traceback": [
      "\u001b[0;36m  File \u001b[0;32m\"<ipython-input-10-b96af35311cc>\"\u001b[0;36m, line \u001b[0;32m2\u001b[0m\n\u001b[0;31m    query_productos = '''select id_producto from productoxestante where id_estante='''+str(estante)+''''''int\u001b[0m\n\u001b[0m                                                                                                          ^\u001b[0m\n\u001b[0;31mSyntaxError\u001b[0m\u001b[0;31m:\u001b[0m invalid syntax\n"
     ]
    }
   ],
   "source": [
    "estante = 2\n",
    "query_productos = '''select id_producto from productoxestante where id_estante='''+str(estante)+''''''int\n",
    "select(query_productos)[0]"
   ]
  },
  {
   "cell_type": "code",
   "execution_count": null,
   "metadata": {},
   "outputs": [],
   "source": [
    "query = '''select id_producto from productoxestante where id_estante = 2;'''\n",
    "(select(query)[0])"
   ]
  },
  {
   "cell_type": "code",
   "execution_count": null,
   "metadata": {},
   "outputs": [],
   "source": []
  }
 ],
 "metadata": {
  "kernelspec": {
   "display_name": "Python 3",
   "language": "python",
   "name": "python3"
  },
  "language_info": {
   "codemirror_mode": {
    "name": "ipython",
    "version": 3
   },
   "file_extension": ".py",
   "mimetype": "text/x-python",
   "name": "python",
   "nbconvert_exporter": "python",
   "pygments_lexer": "ipython3",
   "version": "3.8.5"
  }
 },
 "nbformat": 4,
 "nbformat_minor": 4
}
