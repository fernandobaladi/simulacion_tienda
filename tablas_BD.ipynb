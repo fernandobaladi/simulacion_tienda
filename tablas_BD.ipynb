{
 "cells": [
  {
   "cell_type": "code",
   "execution_count": null,
   "metadata": {},
   "outputs": [],
   "source": [
    "import ssl\n",
    "import sys\n",
    "import psycopg2\n",
    "from sqlalchemy import create_engine\n",
    "import paho.mqtt.client\n",
    "import json"
   ]
  },
  {
   "cell_type": "code",
   "execution_count": null,
   "metadata": {},
   "outputs": [],
   "source": [
    "host='lallah.db.elephantsql.com'\n",
    "user ='yirsxctz'\n",
    "password='AS3sYxp2fpRwAczZa1OZpIzI4etWHM6n'\n",
    "dbname='yirsxctz'"
   ]
  },
  {
   "cell_type": "code",
   "execution_count": null,
   "metadata": {},
   "outputs": [],
   "source": [
    "def select(query):\n",
    "    cur = myConnection.cursor()\n",
    "    try:\n",
    "        cur.execute(query)\n",
    "    except Exception as e:\n",
    "        myConnection.commit()\n",
    "        print('Error en el query:', e)\n",
    "    else:\n",
    "        records = cur.fetchall()\n",
    "        cur.close()\n",
    "        return records\n",
    "    \n",
    "def insert(query):\n",
    "    cur = myConnection.cursor()\n",
    "    cur.execute(query)\n",
    "    cur.close()\n",
    "    myConnection.commit()"
   ]
  },
  {
   "cell_type": "code",
   "execution_count": null,
   "metadata": {},
   "outputs": [],
   "source": [
    "myConnection = psycopg2.connect(host = host,\n",
    "                                user= user, password =password,\n",
    "                                dbname= dbname)"
   ]
  },
  {
   "cell_type": "code",
   "execution_count": null,
   "metadata": {},
   "outputs": [],
   "source": [
    "query = '''CREATE TABLE IF NOT EXIST categoria_producto(\n",
    "            ID_categoria_producto serial primary key,\n",
    "            nombre VARCHAR(255) not null\n",
    "            )\n",
    "'''\n",
    "insert(query)"
   ]
  },
  {
   "cell_type": "code",
   "execution_count": null,
   "metadata": {},
   "outputs": [],
   "source": [
    "query = '''CREATE TABLE IF NOT EXIST  producto (\n",
    "           ID_producto serial primary key,\n",
    "           nombre VARCHAR(255) not null,\n",
    "           ID_categoria_producto int not null,\n",
    "           foreign key(ID_categoria_producto)\n",
    "           references categoria_producto(ID_categoria_producto));\n",
    "           '''\n",
    "insert(query)"
   ]
  },
  {
   "cell_type": "code",
   "execution_count": null,
   "metadata": {},
   "outputs": [],
   "source": [
    "query = '''CREATE TABLE IF NOT EXIST tienda(\n",
    "    ID_tienda serial primary key,\n",
    "    nombre VARCHAR(255) not null unique,\n",
    "    direccion VARCHAR(255) not null unique,\n",
    "    RIF VARCHAR(255) not null unique,\n",
    "    maximo_clientes INT not null\n",
    ");'''\n",
    "insert(query)"
   ]
  },
  {
   "cell_type": "code",
   "execution_count": null,
   "metadata": {},
   "outputs": [],
   "source": [
    "query = \"\"\"create table if not exists cliente (\n",
    "           ID_cliente serial PRIMARY KEY,\n",
    "           cedula INT NOT NULL,\n",
    "           nombre varchar(255) NOT NULL,\n",
    "           apellido varchar(255) NOT NULL,\n",
    "           direccion varchar(255) NOT NULL,\n",
    "           telefono INT NOT NULL);\"\"\"\n",
    "insert(query)"
   ]
  },
  {
   "cell_type": "code",
   "execution_count": null,
   "metadata": {},
   "outputs": [],
   "source": [
    "query = \"\"\"create table if not exists estante (\n",
    "           ID_estante serial PRIMARY KEY,\n",
    "           ID_tienda INT NOT NULL,\n",
    "           foreign key (ID_tienda) references tienda);\"\"\"\n",
    "insert(query)"
   ]
  },
  {
   "cell_type": "code",
   "execution_count": null,
   "metadata": {},
   "outputs": [],
   "source": [
    "query = \"\"\"create table if not exists cuenta_bancaria (\n",
    "           ID_cuenta_bancaria serial PRIMARY KEY,\n",
    "           numero_cuenta INT NOT NULL,\n",
    "           banco varchar(255) NOT NULL,\n",
    "           ID_tienda INT NOT NULL,\n",
    "           saldo INT NOT NULL,\n",
    "           foreign key (ID_tienda) references tienda);\"\"\"\n",
    "insert(query)"
   ]
  },
  {
   "cell_type": "code",
   "execution_count": null,
   "metadata": {},
   "outputs": [],
   "source": [
    "query = '''create table if not exists productoxestante (\n",
    "           ID_producto INT NOT NULL,\n",
    "           cantidad_maxima_producto int not null,\n",
    "           ID_estante INT NOT NULL,\n",
    "           ID_productoxestante serial primary key not null,\n",
    "           foreign key (ID_producto) references producto,\n",
    "           foreign key (ID_estante) references estante);'''\n",
    "insert(query)"
   ]
  },
  {
   "cell_type": "code",
   "execution_count": null,
   "metadata": {},
   "outputs": [],
   "source": [
    "query = \"\"\"create table if not exists cambio_precio_producto (\n",
    "ID_cambio_precio_producto serial PRIMARY KEY,\n",
    "ID_producto INT NOT NULL,\n",
    "precio INT NOT NULL,\n",
    "fecha TIMESTAMP NOT NULL,\n",
    "foreign key (ID_producto) references producto);\"\"\"\n",
    "insert(query)"
   ]
  },
  {
   "cell_type": "code",
   "execution_count": null,
   "metadata": {},
   "outputs": [],
   "source": [
    "query = \"\"\"create table if not exists factura (\n",
    "ID_factura serial PRIMARY KEY,\n",
    "ID_cliente INT NOT NULL,\n",
    "ID_tienda INT NOT NULL,\n",
    "fecha TIMESTAMP NOT NULL,\n",
    "subtotal INT NOT NULL,\n",
    "total INT NOT NULL,\n",
    "foreign key (ID_cliente) references cliente,\n",
    "foreign key (ID_tienda) references tienda);\"\"\"\n",
    "insert(query)"
   ]
  },
  {
   "cell_type": "code",
   "execution_count": null,
   "metadata": {},
   "outputs": [],
   "source": [
    "query = \"\"\"create table if not exists compra (\n",
    "ID_compra serial PRIMARY KEY,\n",
    "ID_factura INT NOT NULL,\n",
    "ID_producto INT NOT NULL,\n",
    "cantidad_producto INT NOT NULL,\n",
    "ID_cambio_precio_producto INT NOT NULL,\n",
    "foreign key (ID_factura) references factura,\n",
    "foreign key (ID_producto) references producto,\n",
    "foreign key (ID_cambio_precio_producto) references cambio_precio_producto);\"\"\"\n",
    "insert(query)"
   ]
  },
  {
   "cell_type": "code",
   "execution_count": null,
   "metadata": {},
   "outputs": [],
   "source": [
    "query = \"\"\"create table if not exists producto_disponiblexestante (\n",
    "ID_producto_disponiblexestante serial PRIMARY KEY,\n",
    "ID_productoxestante INT NOT NULL,\n",
    "cantidad_disponible_producto INT NOT NULL,\n",
    "fecha TIMESTAMP NOT NULL,\n",
    "foreign key (ID_productoxestante) references productoxestante(ID_productoxestante));\"\"\"\n",
    "insert(query)"
   ]
  },
  {
   "cell_type": "code",
   "execution_count": null,
   "metadata": {},
   "outputs": [],
   "source": [
    "query = \"\"\"create table if not exists cambio_puntos_cliente (\n",
    "ID_cambio_puntos_cliente serial PRIMARY KEY,\n",
    "ID_cliente INT NOT NULL,\n",
    "puntos INT NOT NULL,\n",
    "fecha TIMESTAMP NOT NULL,\n",
    "foreign key (ID_cliente) references cliente);\"\"\"\n",
    "insert(query)"
   ]
  },
  {
   "cell_type": "code",
   "execution_count": null,
   "metadata": {},
   "outputs": [],
   "source": [
    "query = \"\"\"create table if not exists visitas_conocidas (\n",
    "ID_visitas_conocidas serial PRIMARY KEY,\n",
    "ID_cliente INT NOT NULL,\n",
    "ID_tienda INT NOT NULL,\n",
    "puntos INT NOT NULL,\n",
    "fecha TIMESTAMP NOT NULL,\n",
    "foreign key (ID_cliente) references cliente,\n",
    "foreign key (ID_tienda) references tienda);\"\"\"\n",
    "insert(query)"
   ]
  },
  {
   "cell_type": "code",
   "execution_count": null,
   "metadata": {},
   "outputs": [],
   "source": [
    "query = \"\"\"create table if not exists pago (\n",
    "ID_pago serial PRIMARY KEY,\n",
    "referencia_bancaria varchar(20) NOT NULL,\n",
    "ID_cliente INT NOT NULL,\n",
    "banco INT NOT NULL,\n",
    "monto INT NOT NULL,\n",
    "ID_factura INT NOT NULL,\n",
    "fecha TIMESTAMP NOT NULL,\n",
    "foreign key (ID_cliente) references cliente,\n",
    "foreign key (ID_factura) references factura);\"\"\"\n",
    "insert(query)"
   ]
  }
 ],
 "metadata": {
  "kernelspec": {
   "display_name": "Python 3",
   "language": "python",
   "name": "python3"
  },
  "language_info": {
   "codemirror_mode": {
    "name": "ipython",
    "version": 3
   },
   "file_extension": ".py",
   "mimetype": "text/x-python",
   "name": "python",
   "nbconvert_exporter": "python",
   "pygments_lexer": "ipython3",
   "version": "3.8.5"
  }
 },
 "nbformat": 4,
 "nbformat_minor": 4
}
