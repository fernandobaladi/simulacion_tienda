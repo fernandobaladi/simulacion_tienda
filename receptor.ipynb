{
 "cells": [
  {
   "cell_type": "code",
   "execution_count": 1,
   "metadata": {},
   "outputs": [],
   "source": [
    "import time\n",
    "import paho.mqtt.client\n",
    "import paho.mqtt.publish\n",
    "import numpy as np\n",
    "from numpy import random\n",
    "import datetime\n",
    "import ssl\n",
    "import sys\n",
    "import psycopg2\n",
    "from sqlalchemy import create_engine\n",
    "import json"
   ]
  },
  {
   "cell_type": "code",
   "execution_count": 2,
   "metadata": {},
   "outputs": [],
   "source": [
    "host='lallah.db.elephantsql.com'\n",
    "user ='yirsxctz'\n",
    "password='AS3sYxp2fpRwAczZa1OZpIzI4etWHM6n'\n",
    "dbname='yirsxctz'"
   ]
  },
  {
   "cell_type": "code",
   "execution_count": 3,
   "metadata": {},
   "outputs": [],
   "source": [
    "def myQuery(query):\n",
    "    cur = myConnection.cursor()\n",
    "    try:\n",
    "        cur.execute(query)\n",
    "    except Exception as e:\n",
    "        myConnection.commit()\n",
    "        print('Error en el query:', e)\n",
    "    else:\n",
    "        cur.close()\n",
    "        myConnection.commit()\n",
    "        return 1"
   ]
  },
  {
   "cell_type": "code",
   "execution_count": 4,
   "metadata": {},
   "outputs": [],
   "source": [
    "myConnection = psycopg2.connect(host = host,\n",
    "                                user= user, password =password,\n",
    "                                dbname= dbname)"
   ]
  },
  {
   "cell_type": "code",
   "execution_count": 5,
   "metadata": {},
   "outputs": [],
   "source": [
    "def on_connect(client, userdata, flags, rc):    \n",
    "    print('connected (%s)' % client._client_id)\n",
    "    client.subscribe(topic='Tienda/#', qos = 0)       \n",
    "\n",
    "def on_message(client, userdata, message):   \n",
    "    a = json.loads(message.payload)\n",
    "    #warnings(a)\n",
    "    insert_db(a)\n",
    "    print(a)\n",
    "    print('------------------------------')  "
   ]
  },
  {
   "cell_type": "code",
   "execution_count": 6,
   "metadata": {},
   "outputs": [],
   "source": [
    "def insert_db(info):\n",
    "    \n",
    "    #clientes conocidos y clientes no conocidos\n",
    "    if(int(info[\"afiliado\"]) == 1):\n",
    "        query = \"\"\"INSERT INTO visitas_conocidas (id_cliente_afiliado, id_tienda, puntos, fecha)\n",
    "                    values (\"\"\"+str(info[\"cliente\"])+\"\"\",\n",
    "                            \"\"\"+str(info[\"tienda\"])+\"\"\",\n",
    "                            \"\"\"+str(1)+\"\"\",\n",
    "                            '\"\"\"+str(info[\"fecha\"])+\"\"\"')\"\"\"\n",
    "        myQuery(query)\n",
    "    \n",
    "    else:\n",
    "        query = \"\"\"INSERT INTO cliente(cedula, nombre, apellido, direccion, telefono)\n",
    "                    values ('\"\"\"+str(info[\"cedula_cliente\"])+\"\"\"',\n",
    "                            \"\"\"+str(info[\"nombre_cliente\"])+\"\"\",\n",
    "                            \"\"\"+str(info[\"apellido_cliente\"])+\"\"\",\n",
    "                            \"\"\"+str(info[\"direccion_cliente\"])+\"\"\",\n",
    "                            '\"\"\"+str(info[\"telefono_cliente\"])+\"\"\"')\"\"\"\n",
    "        myQuery(query)\n",
    "    \n",
    "\n",
    "    \n",
    "    #compras\n",
    "    for x in range(0,len(info[\"productos\"])):\n",
    "        query = \"\"\"insert into compra (id_factura, id_producto, cantidad_producto,\n",
    "                                    id_cambio_precio_producto, id_tienda, id_productoxestante)\n",
    "                values ('\"\"\"+str(3)+\"\"\"',\n",
    "                        '\"\"\"+str((info[\"productos\"])[x])+\"\"\"',\n",
    "                        '\"\"\"+str((info[\"cantidades\"])[x])+\"\"\"',\n",
    "                        '\"\"\"+str((info[\"cambios_precio_productos\"])[x])+\"\"\"',\n",
    "                        '\"\"\"+str(info[\"tienda\"])+\"\"\"',\n",
    "                        '\"\"\"+str((info[\"productosxestante\"])[x])+\"\"\"')\"\"\"\n",
    "        \n",
    "        myQuery(query)"
   ]
  },
  {
   "cell_type": "code",
   "execution_count": 7,
   "metadata": {},
   "outputs": [
    {
     "name": "stdout",
     "output_type": "stream",
     "text": [
      "connected (b'')\n",
      "Error en el query: column \"samuel\" does not exist\n",
      "LINE 3:                             Samuel,\n",
      "                                    ^\n",
      "\n",
      "Error en el query: column \"cantidad_disponible_producto\" does not exist\n",
      "LINE 1: SELECT NEW.cantidad_producto < (cantidad_disponible_producto...\n",
      "                                        ^\n",
      "QUERY:  SELECT NEW.cantidad_producto < (cantidad_disponible_producto)\n",
      "CONTEXT:  PL/pgSQL function quitar_producto_del_estante() line 11 at IF\n",
      "\n",
      "{'afiliado': 0, 'cliente': 1, 'tienda': 1, 'fecha': '2020-11-11 12:40:39.818509', 'nombre_cliente': 'Samuel', 'apellido_cliente': 'Anaya', 'direccion_cliente': 'Caracas', 'cedula_cliente': 33932957, 'telefono_cliente': 84599197, 'id_factura': 1, 'productos': [1], 'cantidades': [2], 'cambios_precio_productos': [2], 'productosxestante': [1]}\n",
      "------------------------------\n",
      "Error en el query: column \"cantidad_disponible_producto\" does not exist\n",
      "LINE 1: SELECT NEW.cantidad_producto < (cantidad_disponible_producto...\n",
      "                                        ^\n",
      "QUERY:  SELECT NEW.cantidad_producto < (cantidad_disponible_producto)\n",
      "CONTEXT:  PL/pgSQL function quitar_producto_del_estante() line 11 at IF\n",
      "\n",
      "{'afiliado': 1, 'cliente': 1, 'tienda': 2, 'fecha': '2020-11-11 12:40:42.820874', 'nombre_cliente': 'José', 'apellido_cliente': 'Alcázar', 'direccion_cliente': 'Caracas', 'cedula_cliente': 81185321, 'telefono_cliente': 15480828, 'id_factura': 1, 'productos': [1], 'cantidades': [2], 'cambios_precio_productos': [2], 'productosxestante': [1]}\n",
      "------------------------------\n",
      "Error en el query: column \"cantidad_disponible_producto\" does not exist\n",
      "LINE 1: SELECT NEW.cantidad_producto < (cantidad_disponible_producto...\n",
      "                                        ^\n",
      "QUERY:  SELECT NEW.cantidad_producto < (cantidad_disponible_producto)\n",
      "CONTEXT:  PL/pgSQL function quitar_producto_del_estante() line 11 at IF\n",
      "\n",
      "{'afiliado': 1, 'cliente': 1, 'tienda': 2, 'fecha': '2020-11-11 12:40:45.822676', 'nombre_cliente': 'Mérida', 'apellido_cliente': 'Amador', 'direccion_cliente': 'Caracas', 'cedula_cliente': 85108452, 'telefono_cliente': 52220906, 'id_factura': 1, 'productos': [1], 'cantidades': [2], 'cambios_precio_productos': [2], 'productosxestante': [1]}\n",
      "------------------------------\n"
     ]
    }
   ],
   "source": [
    "host = \"broker.hivemq.com\"\n",
    "\n",
    "client = paho.mqtt.client.Client()\n",
    "\n",
    "client.on_connect = on_connect\n",
    "\n",
    "client.message_callback_add('Tienda/EntradaClientes', on_message)\n",
    "\n",
    "client.connect(host=host) \n",
    "\n",
    "client.loop_start()"
   ]
  },
  {
   "cell_type": "code",
   "execution_count": null,
   "metadata": {},
   "outputs": [],
   "source": []
  }
 ],
 "metadata": {
  "kernelspec": {
   "display_name": "Python 3",
   "language": "python",
   "name": "python3"
  },
  "language_info": {
   "codemirror_mode": {
    "name": "ipython",
    "version": 3
   },
   "file_extension": ".py",
   "mimetype": "text/x-python",
   "name": "python",
   "nbconvert_exporter": "python",
   "pygments_lexer": "ipython3",
   "version": "3.8.5"
  }
 },
 "nbformat": 4,
 "nbformat_minor": 4
}
